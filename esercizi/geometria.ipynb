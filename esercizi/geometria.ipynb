{
  "cells": [
    {
      "cell_type": "markdown",
      "metadata": {
        "id": "HB3XbPDcSqe1"
      },
      "source": [
        "# Esercizi Geometrici"
      ]
    },
    {
      "cell_type": "markdown",
      "metadata": {
        "id": "LCcywn6v2KxD"
      },
      "source": [
        "In Python per stampare consecutivamente più parole senza creare una riga per ognuna bisogna usare il seguente codice:\n"
      ]
    },
    {
      "cell_type": "code",
      "execution_count": null,
      "metadata": {
        "colab": {
          "base_uri": "https://localhost:8080/"
        },
        "id": "PHdyo8E42sza",
        "outputId": "fb51a75d-54ef-48c3-f6ad-342834d2738b"
      },
      "outputs": [],
      "source": [
        "print(\"Parola 1\", end=\" \")\n",
        "print(\"Parola 2\", end=\".\\n\")\n",
        "print(\"Parola 3\")"
      ]
    },
    {
      "cell_type": "code",
      "execution_count": 2,
      "metadata": {
        "colab": {
          "base_uri": "https://localhost:8080/"
        },
        "id": "0U7L9A29RfeT",
        "outputId": "ccdd9b72-55df-486a-a68d-cfe73e90461d"
      },
      "outputs": [
        {
          "name": "stdout",
          "output_type": "stream",
          "text": [
            "* * * * * * * * * * * * * * * * * * \n",
            "* * * * * * * * * * * * * * * * * * \n",
            "* * * * * * * * * * * * * * * * * * \n",
            "* * * * * * * * * * * * * * * * * * \n",
            "* * * * * * * * * * * * * * * * * * \n",
            "* * * * * * * * * * * * * * * * * * \n",
            "* * * * * * * * * * * * * * * * * * \n",
            "* * * * * * * * * * * * * * * * * * \n",
            "* * * * * * * * * * * * * * * * * * \n",
            "* * * * * * * * * * * * * * * * * * \n",
            "* * * * * * * * * * * * * * * * * * \n",
            "* * * * * * * * * * * * * * * * * * \n",
            "* * * * * * * * * * * * * * * * * * \n",
            "* * * * * * * * * * * * * * * * * * \n",
            "* * * * * * * * * * * * * * * * * * \n",
            "* * * * * * * * * * * * * * * * * * \n",
            "* * * * * * * * * * * * * * * * * * \n",
            "* * * * * * * * * * * * * * * * * * \n"
          ]
        }
      ],
      "source": [
        "# Es 6.1: Scrivi la funzione quadrato(n) che stampi a schermo un quadrato di lato nxn formato utilizzando il carattere *\n",
        "#         Esempio:    3 ->  * * *       4 ->  * * * *\n",
        "#                           * * *             * * * *\n",
        "#                           * * *             * * * *\n",
        "#         \n",
        "n = int (input (\"che valore ha il lato del quadrato\"))\n",
        "def quadrato(n):\n",
        "    i=0\n",
        "    for i in range (n):\n",
        "        print (\"* \" * n)\n",
        "        \n",
        "quadrato (n)"
      ]
    },
    {
      "cell_type": "code",
      "execution_count": 3,
      "metadata": {
        "id": "gE3RVr9ORuwP"
      },
      "outputs": [
        {
          "name": "stdout",
          "output_type": "stream",
          "text": [
            "* * * * \n",
            "* * * * \n",
            "* * * * \n",
            "* * * * \n",
            "* * * * \n",
            "* * * * \n",
            "* * * * \n",
            "* * * * \n"
          ]
        }
      ],
      "source": [
        "# Es 6.2: Scrivi la funzione rettangolo(n) che stampi a schermo un rettangolo di lato nx2n formato utilizzando il carattere *\n",
        "#         Esempio:    3 ->  * * * * * *         4 ->  * * * * * * * *\n",
        "#                           * * * * * *               * * * * * * * *\n",
        "#                           * * * * * *               * * * * * * * *\n",
        "#                                                     * * * * * * * *\n",
        "a = int (input (\"che valore ha il lato lungo del rettangolo\"))\n",
        "b = int (input (\"che valore ha il lato corto del rettangol\"))\n",
        "def rettangolo(a,b):\n",
        "    i=0\n",
        "    for i in range (a):\n",
        "        print (\"* \" * b)\n",
        "        \n",
        "rettangolo (a,b)"
      ]
    },
    {
      "cell_type": "code",
      "execution_count": 8,
      "metadata": {
        "id": "r1A_DavcSKgi"
      },
      "outputs": [
        {
          "name": "stdout",
          "output_type": "stream",
          "text": [
            "* \n",
            "* * \n",
            "* * * \n",
            "* * * * \n",
            "* * * * * \n",
            "* * * * * * \n"
          ]
        }
      ],
      "source": [
        "# Es 6.3: Scrivi la funzione triangolo_rettangolo(n) che stampi a schermo un triangolo di cateti n e n formato utilizzando il carattere *\n",
        "#         Esempio:    3 ->  *           4 ->  *\n",
        "#                           * *               * *\n",
        "#                           * * *             * * *\n",
        "#                                             * * * *\n",
        "n = int (input (\"inserisci il valore dei cateti\"))\n",
        "def triangolo_rettangolo(n):\n",
        "    for i in range (n):             # questo for va da 0 a n-1 e rappresenta le righe. es se n=3 fa i=0, i=1, i=2 \n",
        "        for j in range (i + 1):     # questo for è per stampare gli asterischi pari a  i + 1 (che aumentano di 1 ad ogni iterazione del ciclo precedente). Quindi: quando nel ciclo precedente i = 0, viene stampato 0 + 1 asterischi. quando i = 1, viene stampato 1+1 asterischi \n",
        "            print (\"* \", end=\"\" )   # end=\"\" serve per fare uno spazio tra un asterisco e l'altro ma continuando a stampare sulla stessa riga \n",
        "        print ()                    # così va a capo \n",
        "        \n",
        "triangolo_rettangolo (n)\n",
        "\n",
        "\n",
        "# esempio\n",
        "# n=3\n",
        "#   i=0    *\n",
        "#   i=1    * *\n",
        "#   i=2    * * *\n"
      ]
    },
    {
      "cell_type": "code",
      "execution_count": 14,
      "metadata": {
        "id": "iA9D4X_GSims"
      },
      "outputs": [
        {
          "name": "stdout",
          "output_type": "stream",
          "text": [
            "* * * * * * * \n",
            "*           *\n",
            "*           *\n",
            "*           *\n",
            "*           *\n",
            "*           *\n",
            "* * * * * * * \n"
          ]
        }
      ],
      "source": [
        "# Es 6.4: Scrivi la funzione bordo_quadrato(n) che stampi a schermo un quadrato di lato nxn formato utilizzando il carattere * come contorno\n",
        "#         Esempio:    3 ->  * * *       4 ->  * * * *\n",
        "#                           *   *             *     *\n",
        "#                           * * *             *     *\n",
        "#                                             * * * *\n",
        "n = int (input (\"che valore ha il lato del quadrato\"))\n",
        "def bordo_quadrato(n):\n",
        "    i=0\n",
        "    for i in range (n):\n",
        "        if i==0 or i==n-1:         # quando i è zero e n-1 stampo il bordo \n",
        "            print (\"* \" * n)\n",
        "        else:\n",
        "            print (\"*\" + \"  \" * (n-2), \"*\" )          # stampo: * + n-2 spazi + *        n-2 perchè sono tutti spazi tranne due asterischi\n",
        "\n",
        "bordo_quadrato(n)\n",
        "\n",
        "# esempio n=4\n",
        "# i=0  * * * *\n",
        "# i=1  *     *\n",
        "# i=2  *     *\n",
        "# i=3  * * * *\n",
        "\n",
        "\n",
        "# esempio n=5\n",
        "# i=0  * * * * *        \n",
        "# i=1  *       *        ho fatto n-2 spazi, quindi  3\n",
        "# i=2  *       *\n",
        "# i=3  *       *\n",
        "# i=4  * * * * *"
      ]
    },
    {
      "cell_type": "code",
      "execution_count": 29,
      "metadata": {
        "colab": {
          "base_uri": "https://localhost:8080/"
        },
        "id": "1vlDMqo_4uNc",
        "outputId": "de4cc1b2-7110-4ad6-b86c-d67c5756c074"
      },
      "outputs": [
        {
          "name": "stdout",
          "output_type": "stream",
          "text": [
            "/ - - - \\\n",
            "|       |\n",
            "|       |\n",
            "|       |\n",
            "\\ - - - /\n"
          ]
        }
      ],
      "source": [
        "# Es 6.5: Scrivi la funzione bordo_quadrato_bello(n) che stampi a schermo un quadrato di lato nxn formato utilizzando iseguenti caratteri:\n",
        "#         Esempio:    3 ->  / - \\       4 ->  / - - \\\n",
        "#                           |   |             |     |\n",
        "#                           \\ - /             |     |\n",
        "#                                             \\ - - /\n",
        "# Per stampare \\ dovete utilizzare \"\\\\\" ovvero print(\"\\\\\")\n",
        "\n",
        "n = int (input (\"che valore ha il lato del quadrato\"))\n",
        "def bordo_quadrato_bello(n):\n",
        "    for i in range (n):\n",
        "        if i==0:\n",
        "            print (\"/ \" + \"- \" *(n-2) + \"\\\\\")\n",
        "        elif i==n-1:\n",
        "           print (\"\\\\ \" + \"- \" *(n-2) + \"/\")\n",
        "        else:\n",
        "            print (\"| \"+ \"  \" * (n-2) + \"|\")\n",
        "\n",
        "bordo_quadrato_bello (n)\n",
        "\n",
        "# esempio n=4\n",
        "# 1.    i=0 / - - \\\n",
        "# 2.    i=1 |     |\n",
        "# 3.    i=2 |     |\n",
        "# 4.    i=3 \\ - - /"
      ]
    },
    {
      "cell_type": "code",
      "execution_count": 32,
      "metadata": {
        "id": "2E9Hk9kkv5Mx"
      },
      "outputs": [
        {
          "name": "stdout",
          "output_type": "stream",
          "text": [
            "^\\\n",
            "| \\\n",
            "|  \\\n",
            "|   \\\n",
            "|____\\\n"
          ]
        }
      ],
      "source": [
        "# Es 6.6: Scrivi la funzione trianglo_bello(n) che stampi a schermo un triangolo di cateti n e n formato utilizzando iseguenti caratteri:\n",
        "#.   ^\\\n",
        "#    | \\\n",
        "#.   |  \\\n",
        "#.   |___\\\n",
        "\n",
        "n = int (input (\"che valore ha il lato del quadrato\"))\n",
        "def triangolo_bello(n):\n",
        "    i=0\n",
        "    for i in range (n):\n",
        "        if i==0:\n",
        "            print (\"^\" + \"\\\\\")\n",
        "        elif i==n-1:\n",
        "            print (\"|\" + \"_\" *(i) + \"\\\\\")\n",
        "        else:\n",
        "            print (\"|\"+ \" \" * (i) + \"\\\\\")\n",
        "\n",
        "triangolo_bello (n)\n",
        "\n",
        "# esempio n=4\n",
        "# 1.     i=0    ^\\\n",
        "# 2.     i=1    | \\    | + 1 spazio + \\\n",
        "# 3.     i=2    |  \\   | + 2 spazi + \\\n",
        "# 4.     i=3    |___\\  | + 3 _ + \\\n",
        "\n"
      ]
    }
  ],
  "metadata": {
    "colab": {
      "provenance": []
    },
    "kernelspec": {
      "display_name": "Python 3",
      "name": "python3"
    },
    "language_info": {
      "codemirror_mode": {
        "name": "ipython",
        "version": 3
      },
      "file_extension": ".py",
      "mimetype": "text/x-python",
      "name": "python",
      "nbconvert_exporter": "python",
      "pygments_lexer": "ipython3",
      "version": "3.10.8"
    }
  },
  "nbformat": 4,
  "nbformat_minor": 0
}
