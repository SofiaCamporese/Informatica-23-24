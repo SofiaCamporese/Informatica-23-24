{
  "cells": [
    {
      "cell_type": "markdown",
      "metadata": {
        "id": "HB3XbPDcSqe1"
      },
      "source": [
        "# Esercizi IF"
      ]
    },
    {
      "cell_type": "code",
      "execution_count": 1,
      "metadata": {
        "id": "0U7L9A29RfeT"
      },
      "outputs": [
        {
          "name": "stdout",
          "output_type": "stream",
          "text": [
            "Dispari\n"
          ]
        }
      ],
      "source": [
        "# Es 4.1: Ottenere dall'utente un numero in input e scrivere a schermo \"Pari\" se il numero è pari, scrivere \"Dispari\" altrimenti\n",
        "n = int (input(\"inserisci un numero\"))\n",
        "if n%2 == 0:\n",
        "    print (\"Pari\")\n",
        "else:\n",
        "    print (\"Dispari\")"
      ]
    },
    {
      "cell_type": "code",
      "execution_count": 8,
      "metadata": {
        "id": "gE3RVr9ORuwP"
      },
      "outputs": [
        {
          "name": "stdout",
          "output_type": "stream",
          "text": [
            "non è un triangolo\n"
          ]
        }
      ],
      "source": [
        "# Es 4.2: Ottenere dall'utente tre angoli caso siano i tre angoli di un triangolo scrivere a schermo \"È un triangolo\", altrimenti \"Non è un triangolo\"\n",
        "a = int (input(\"inserisci il primo angolo\"))\n",
        "b = int (input(\"inserisci il secondo angolo\"))\n",
        "c = int (input(\"inserisci il terzo angolo\"))\n",
        "if a + b + c == 180 and a>0 and b>0 and c>0:\n",
        "    print (\"è un triangolo\")\n",
        "else:\n",
        "    print (\"non è un triangolo\")"
      ]
    },
    {
      "cell_type": "code",
      "execution_count": 10,
      "metadata": {
        "id": "r1A_DavcSKgi"
      },
      "outputs": [
        {
          "name": "stdout",
          "output_type": "stream",
          "text": [
            "è un triangolo\n",
            "è un triangolo rettangolo\n"
          ]
        }
      ],
      "source": [
        "# Es 4.3: Ottenuti dall'utente tre angoli di un tringolo scrivere a schermo se i tre angoli descrivono un triangolo rettangolo o no\n",
        "a = int (input(\"inserisci il primo angolo\"))\n",
        "b = int (input(\"inserisci il secondo angolo\"))\n",
        "c = int (input(\"inserisci il terzo angolo\"))\n",
        "if a + b + c == 180 and a>0 and b>0 and c>0:\n",
        "    print (\"è un triangolo\")\n",
        "else:\n",
        "    print (\"non è un triangolo\")\n",
        "if a == 90 or b == 90 or c == 90:\n",
        "    print (\"è un triangolo rettangolo\")\n",
        "else: \n",
        "    print (\"non è un triangolo rettangolo \")"
      ]
    },
    {
      "cell_type": "code",
      "execution_count": 7,
      "metadata": {
        "id": "iA9D4X_GSims"
      },
      "outputs": [
        {
          "name": "stdout",
          "output_type": "stream",
          "text": [
            "non è un triangolo\n",
            "non è un triangolo equilatero\n"
          ]
        }
      ],
      "source": [
        "# Es 4.4: Ottenuti dall'utente tre angoli di un tringolo scrivere a schermo se i tre angoli descrivono un triangolo equilatero o no\n",
        "a = int (input(\"inserisci il primo angolo\"))\n",
        "b = int (input(\"inserisci il secondo angolo\"))\n",
        "c = int (input(\"inserisci il terzo angolo\"))\n",
        "if a + b + c == 180 and a>0 and b>0 and c>0:\n",
        "    print (\"è un triangolo\")\n",
        "else:\n",
        "    print (\"non è un triangolo\")\n",
        "if a == b and b == c:\n",
        "    print (\"è un triangolo equilatero\") \n",
        "else:\n",
        "    print (\"non è un triangolo equilatero\")"
      ]
    },
    {
      "cell_type": "code",
      "execution_count": 10,
      "metadata": {
        "id": "8q4gadoTSU7J"
      },
      "outputs": [
        {
          "name": "stdout",
          "output_type": "stream",
          "text": [
            "è un triangolo\n",
            "è un triangolo isoscele\n"
          ]
        }
      ],
      "source": [
        "# Es 4.5: Ottenuti dall'utente tre angoli di un tringolo scrivere a schermo se i tre angoli descrivono un triangolo isocele o no\n",
        "a = int (input(\"inserisci il primo angolo\"))\n",
        "b = int (input(\"inserisci il secondo angolo\"))\n",
        "c = int (input(\"inserisci il terzo angolo\"))\n",
        "if a + b + c == 180 and a>0 and b>0 and c>0:\n",
        "    print (\"è un triangolo\")\n",
        "else:\n",
        "    print (\"non è un triangolo\")\n",
        "if a == b or b == c or c == a:\n",
        "    print (\"è un triangolo isoscele\") \n",
        "else:\n",
        "    print (\"non è un triangolo isoscele\")"
      ]
    },
    {
      "cell_type": "code",
      "execution_count": 8,
      "metadata": {
        "id": "yVIE2kK3SYlq"
      },
      "outputs": [
        {
          "name": "stdout",
          "output_type": "stream",
          "text": [
            "non è un triangolo\n"
          ]
        }
      ],
      "source": [
        "# Es 4.6: Ottenuti dall'utente tre angoli di un tringolo scrivere a schermo se i tre angoli descrivono un triangolo isocele, rettagolo, equilatero o scaleno\n",
        "a = int (input(\"inserisci il primo angolo\"))\n",
        "b = int (input(\"inserisci il secondo angolo\"))\n",
        "c = int (input(\"inserisci il terzo angolo\"))\n",
        "if a + b + c == 180 and a>0 and b>0 and c>0:\n",
        "    print (\"è un triangolo\")\n",
        "    if a == b and b!=c or b == c and c!=a or c == a and a!=b :\n",
        "        print (\"è un triangolo isoscele\") \n",
        "    if a == b and b == c:\n",
        "        print (\"è un triangolo equilatero\") \n",
        "    if a == 90 or b == 90 or c == 90:\n",
        "        print (\"è un triangolo rettangolo\")\n",
        "    if a!= b and b!=c and c!=a and a!= 90 and b!=90 and c!=90:\n",
        "        print (\"è un triangolo scaleno\")\n",
        "else: \n",
        "    print (\"non è un triangolo\")"
      ]
    },
    {
      "cell_type": "markdown",
      "metadata": {
        "id": "ef5snVxLqeQh"
      },
      "source": [
        "# Esercizi WHILE\n"
      ]
    },
    {
      "cell_type": "code",
      "execution_count": 12,
      "metadata": {
        "id": "j61RqiHxqdmh"
      },
      "outputs": [
        {
          "name": "stdout",
          "output_type": "stream",
          "text": [
            "ciao\n",
            "ciao\n",
            "ciao\n",
            "ciao\n",
            "ciao\n"
          ]
        }
      ],
      "source": [
        "# Es 4.7: Creare una funzione print_n(n,v) che stampi n volte il contenuto di v\n",
        "v = input (\"inserisci il valore da stampare\")\n",
        "n = int (input(\"inserici quante volte vuoi ripetere v\"))\n",
        "def print_n (n,v): \n",
        "    i=0             # inizializzo i=0\n",
        "    while i<n:      # finchè i è minore di n (che è il numero di volte che devo ripetere v)\n",
        "        print (v)   # stampo v\n",
        "        i=i+1       # incremento i di 1      \n",
        "print_n (n,v)\n"
      ]
    },
    {
      "cell_type": "code",
      "execution_count": 11,
      "metadata": {
        "colab": {
          "base_uri": "https://localhost:8080/"
        },
        "id": "-6lAm-hfq9w9",
        "outputId": "399e82ba-3cfe-475f-f8df-0e156677ec75"
      },
      "outputs": [
        {
          "name": "stdout",
          "output_type": "stream",
          "text": [
            "1\n",
            "2\n",
            "3\n"
          ]
        }
      ],
      "source": [
        "# Es 4.8: Inserito il numero n dire per quali numeri, compresi tra 1 e n, è divisibile.\n",
        "# Inserisco 10: stampo 1,2,5\n",
        "# Inserisco 7: stampo 1\n",
        "n = int (input (\"inserisci un numero\"))\n",
        "i=1\n",
        "while i<n:\n",
        "    if n%i == 0:\n",
        "        print (i)\n",
        "    i=i+1"
      ]
    },
    {
      "cell_type": "code",
      "execution_count": 2,
      "metadata": {
        "colab": {
          "base_uri": "https://localhost:8080/"
        },
        "id": "GjC4LdR7rP-b",
        "outputId": "9f539b4d-c307-479a-da13-610a7e1cc46e"
      },
      "outputs": [
        {
          "name": "stdout",
          "output_type": "stream",
          "text": [
            " non è un numero primo\n"
          ]
        }
      ],
      "source": [
        "# Es 4.9: Inserito il numero n dire se è primo o no\n",
        "n = int (input(\"inserisci un numero\"))\n",
        "primo = True        # suppongo che il numero che ho inserito sia primo\n",
        "i=2                 # inizializzo i=2 perchè se il numero che ho inserito è dividibile per altri numeri oltre che 1 e se stesso allora non è primo\n",
        "while i<n:\n",
        "    if n%i == 0:        # se n è divisibile per numeri diversi a 1 e n (perchè i parte da 2), allora non è primo \n",
        "        primo = False \n",
        "        break       # appena trova un divisore diverso da 1 e n, esce dal ciclo perchè non è un numero primo\n",
        "    i=i+1           #  verifico che n sia divisibile per valori da 2 a n-1 fino a quando viene trovato un divisore o si conferma che n è primo\n",
        "if primo:               \n",
        "        print (\"  è un numero primo\")           \n",
        "else: \n",
        "    print (\" non è un numero primo\")"
      ]
    },
    {
      "cell_type": "code",
      "execution_count": 6,
      "metadata": {
        "colab": {
          "base_uri": "https://localhost:8080/"
        },
        "id": "CxtWnOdHsTv4",
        "outputId": "5d874410-cb07-46a2-9c22-83d541b7a91a"
      },
      "outputs": [
        {
          "name": "stdout",
          "output_type": "stream",
          "text": [
            "15\n"
          ]
        }
      ],
      "source": [
        "# Es 4.10: Creare la funzione moltiplica che restituisce il prodotto tra due numeri senza utilizzare *\n",
        "# 3*4 è uguale a 4+4+4\n",
        "n = int(input(\"inserisci un numero\")) # numero che voglio ripetere es 5 \n",
        "v = int(input(\"inserisci un numero\")) # quante volte voglio ripetere il numero es 3\n",
        "def moltiplica (n,v):\n",
        "    s = 0\n",
        "    i = 0\n",
        "    while i<v:\n",
        "        s=s+n\n",
        "        i=i+1\n",
        "    print (s)\n",
        "moltiplica (n,v)    "
      ]
    }
  ],
  "metadata": {
    "colab": {
      "provenance": []
    },
    "kernelspec": {
      "display_name": "Python 3",
      "name": "python3"
    },
    "language_info": {
      "codemirror_mode": {
        "name": "ipython",
        "version": 3
      },
      "file_extension": ".py",
      "mimetype": "text/x-python",
      "name": "python",
      "nbconvert_exporter": "python",
      "pygments_lexer": "ipython3",
      "version": "3.0.0"
    }
  },
  "nbformat": 4,
  "nbformat_minor": 0
}
